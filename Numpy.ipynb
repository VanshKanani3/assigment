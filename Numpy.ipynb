{
 "cells": [
  {
   "cell_type": "code",
   "execution_count": 38,
   "id": "1a504a76",
   "metadata": {},
   "outputs": [],
   "source": [
    "import numpy as np"
   ]
  },
  {
   "cell_type": "markdown",
   "id": "d1d635a7",
   "metadata": {},
   "source": [
    "# how to create an empty and a full numpy array?"
   ]
  },
  {
   "cell_type": "code",
   "execution_count": 39,
   "id": "20b149a3",
   "metadata": {},
   "outputs": [
    {
     "name": "stdout",
     "output_type": "stream",
     "text": [
      "[[1.05828967e-311 2.47032823e-322 0.00000000e+000 0.00000000e+000]\n",
      " [1.14587773e-312 1.33664410e+160 7.72844292e-091 4.27629970e-033]\n",
      " [3.61014451e+174 7.35366412e-043 3.99910963e+252 1.90979636e-312]]\n"
     ]
    }
   ],
   "source": [
    "a = np.empty((3, 4))\n",
    "print(a)"
   ]
  },
  {
   "cell_type": "markdown",
   "id": "fc3ce52a",
   "metadata": {},
   "source": [
    "# create numpy array filled with all zeros?"
   ]
  },
  {
   "cell_type": "code",
   "execution_count": 40,
   "id": "314fc156",
   "metadata": {},
   "outputs": [
    {
     "name": "stdout",
     "output_type": "stream",
     "text": [
      "[0. 0. 0.]\n"
     ]
    }
   ],
   "source": [
    "a=np.zeros(3)\n",
    "print(a)"
   ]
  },
  {
   "cell_type": "markdown",
   "id": "451be769",
   "metadata": {},
   "source": [
    "\n",
    "# created a numpy array filled with all ones"
   ]
  },
  {
   "cell_type": "code",
   "execution_count": 41,
   "id": "391c275a",
   "metadata": {},
   "outputs": [
    {
     "data": {
      "text/plain": [
       "array([1., 1.])"
      ]
     },
     "execution_count": 41,
     "metadata": {},
     "output_type": "execute_result"
    }
   ],
   "source": [
    "a = np.ones(2)\n",
    "a"
   ]
  },
  {
   "cell_type": "markdown",
   "id": "e589ecfe",
   "metadata": {},
   "source": [
    "# created whether a numpy  array contains a specified row"
   ]
  },
  {
   "cell_type": "code",
   "execution_count": 42,
   "id": "ee3707d1",
   "metadata": {},
   "outputs": [
    {
     "name": "stdout",
     "output_type": "stream",
     "text": [
      "Specified row is in the array.\n"
     ]
    }
   ],
   "source": [
    "\n",
    "array = np.array([[1, 2, 3],\n",
    "                  [4, 5, 6],\n",
    "                  [7, 8, 9]])\n",
    "\n",
    "\n",
    "_row = np.array([4, 5, 6])\n",
    "\n",
    "\n",
    "if any(np.array_equal(row, _row) for row in array):\n",
    "    print(\"Specified row is in the array.\")\n",
    "else:\n",
    "    print(\"Specified row is not in the array.\")\n"
   ]
  },
  {
   "cell_type": "markdown",
   "id": "55679517",
   "metadata": {},
   "source": [
    "\n",
    "# how to remove rows in numpy array that contains non-numeric values\n"
   ]
  },
  {
   "cell_type": "code",
   "execution_count": 50,
   "id": "273a0e4a",
   "metadata": {},
   "outputs": [
    {
     "name": "stdout",
     "output_type": "stream",
     "text": [
      "Given array:\n",
      "[[10.5 22.5  3.8]\n",
      " [41.   nan  nan]]\n",
      "\n",
      "Remove all rows containing non-numeric values\n",
      "[[10.5 22.5  3.8]]\n"
     ]
    }
   ],
   "source": [
    "n_arr = np.array([[10.5, 22.5, 3.8], \n",
    "                  [41, np.nan, np.nan]]) \n",
    "  \n",
    "print(\"Given array:\") \n",
    "print(n_arr) \n",
    "  \n",
    "print(\"\\nRemove all rows containing non-numeric values\") \n",
    "print(n_arr[~np.isnan(n_arr).any(axis=1)]) "
   ]
  },
  {
   "cell_type": "markdown",
   "id": "4384661e",
   "metadata": {},
   "source": [
    "# remove single-dimensional entries from the shape of an array"
   ]
  },
  {
   "cell_type": "code",
   "execution_count": null,
   "id": "6563134b",
   "metadata": {},
   "outputs": [],
   "source": []
  },
  {
   "cell_type": "code",
   "execution_count": 43,
   "id": "36b1777d",
   "metadata": {},
   "outputs": [
    {
     "data": {
      "text/plain": [
       "array([1., 1.])"
      ]
     },
     "execution_count": 43,
     "metadata": {},
     "output_type": "execute_result"
    }
   ],
   "source": [
    "a"
   ]
  },
  {
   "cell_type": "code",
   "execution_count": null,
   "id": "31921b70",
   "metadata": {},
   "outputs": [],
   "source": []
  },
  {
   "cell_type": "code",
   "execution_count": null,
   "id": "db0c6222",
   "metadata": {},
   "outputs": [],
   "source": []
  },
  {
   "cell_type": "code",
   "execution_count": 44,
   "id": "58a357c4",
   "metadata": {},
   "outputs": [
    {
     "data": {
      "text/plain": [
       "(2,)"
      ]
     },
     "execution_count": 44,
     "metadata": {},
     "output_type": "execute_result"
    }
   ],
   "source": [
    "a.shape"
   ]
  },
  {
   "cell_type": "markdown",
   "id": "7f017bd3",
   "metadata": {},
   "source": [
    "# find the number of occurrences of a sequence in a numpy array "
   ]
  },
  {
   "cell_type": "code",
   "execution_count": 45,
   "id": "c8bebb71",
   "metadata": {},
   "outputs": [
    {
     "data": {
      "text/plain": [
       "array([[2, 3, 4],\n",
       "       [2, 4, 5]])"
      ]
     },
     "execution_count": 45,
     "metadata": {},
     "output_type": "execute_result"
    }
   ],
   "source": [
    "b = np.array([[2, 3, 4],[2,4,5]])\n",
    "b"
   ]
  },
  {
   "cell_type": "raw",
   "id": "66bf5b5d",
   "metadata": {},
   "source": [
    "find the most frequent value in a numpy array "
   ]
  },
  {
   "cell_type": "code",
   "execution_count": 46,
   "id": "49581ef9",
   "metadata": {},
   "outputs": [
    {
     "name": "stdout",
     "output_type": "stream",
     "text": [
      "[1 2 3 4 5 1 2 1 1 1]\n",
      "Most frequent value  array:\n",
      "1\n"
     ]
    }
   ],
   "source": [
    " \n",
    "x = np.array([1,2,3,4,5,1,2,1,1,1]) \n",
    "print(x) \n",
    "print(\"Most frequent value  array:\") \n",
    "print(np.bincount(x).argmax())"
   ]
  },
  {
   "cell_type": "markdown",
   "id": "34b527b5",
   "metadata": {},
   "source": [
    "# combining a one and a two-dimensional numpy array"
   ]
  },
  {
   "cell_type": "code",
   "execution_count": 47,
   "id": "44626d4c",
   "metadata": {},
   "outputs": [
    {
     "name": "stdout",
     "output_type": "stream",
     "text": [
      "[[1 2 3]\n",
      " [4 5 6]\n",
      " [7 8 9]]\n"
     ]
    }
   ],
   "source": [
    "import numpy as np\n",
    "\n",
    "\n",
    "one = np.array([1, 2, 3])\n",
    "\n",
    "\n",
    "two = np.array([[4, 5, 6],\n",
    "                          [7, 8, 9]])\n",
    "combined_array = np.vstack((one, two))\n",
    "print(combined_array)\n"
   ]
  },
  {
   "cell_type": "markdown",
   "id": "41fd22b5",
   "metadata": {},
   "source": [
    "# how to bulid an array of all combinations of two numpy arraays?"
   ]
  },
  {
   "cell_type": "code",
   "execution_count": 48,
   "id": "2b64df2c",
   "metadata": {},
   "outputs": [
    {
     "name": "stdout",
     "output_type": "stream",
     "text": [
      "[[1 4]\n",
      " [2 4]\n",
      " [3 4]\n",
      " [1 5]\n",
      " [2 5]\n",
      " [3 5]\n",
      " [1 6]\n",
      " [2 6]\n",
      " [3 6]]\n"
     ]
    }
   ],
   "source": [
    "import numpy as np\n",
    "\n",
    "array1 = np.array([1, 2, 3])\n",
    "array2 = np.array([4, 5, 6])\n",
    "\n",
    "_array1, _array2 = np.meshgrid(array1, array2)\n",
    "\n",
    "combinations = np.vstack((_array1.ravel(), _array2.ravel())).T\n",
    "\n",
    "print(combinations)\n"
   ]
  },
  {
   "cell_type": "code",
   "execution_count": null,
   "id": "0cedb148",
   "metadata": {},
   "outputs": [],
   "source": []
  },
  {
   "cell_type": "code",
   "execution_count": null,
   "id": "9f8f2de0",
   "metadata": {},
   "outputs": [],
   "source": []
  }
 ],
 "metadata": {
  "kernelspec": {
   "display_name": "Python 3 (ipykernel)",
   "language": "python",
   "name": "python3"
  },
  "language_info": {
   "codemirror_mode": {
    "name": "ipython",
    "version": 3
   },
   "file_extension": ".py",
   "mimetype": "text/x-python",
   "name": "python",
   "nbconvert_exporter": "python",
   "pygments_lexer": "ipython3",
   "version": "3.11.4"
  }
 },
 "nbformat": 4,
 "nbformat_minor": 5
}
